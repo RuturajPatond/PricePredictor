{
 "cells": [
  {
   "cell_type": "code",
   "execution_count": 8,
   "id": "93e77d79-7a21-4ea8-97c3-315bfa3bd182",
   "metadata": {},
   "outputs": [],
   "source": [
    "from joblib import load, dump\n",
    "import numpy as np\n",
    "model = load('Price_Predictor.joblib')"
   ]
  },
  {
   "cell_type": "code",
   "execution_count": 10,
   "id": "491cd6e0-f9ee-4deb-9166-952a8451ea1a",
   "metadata": {},
   "outputs": [
    {
     "data": {
      "text/plain": [
       "array([24.543])"
      ]
     },
     "execution_count": 10,
     "metadata": {},
     "output_type": "execute_result"
    }
   ],
   "source": [
    "features = np.array([[-0.44228927, -0.4898311 , -1.37640684, -0.27288841, -0.34321545,\n",
    "        0.0112045 , -0.32141324,  1.20459526, -0.54798852,  0.06128627,\n",
    "       -0.18591613,  0.38522248, -0.57358809]])\n",
    "model.predict(features)"
   ]
  },
  {
   "cell_type": "code",
   "execution_count": null,
   "id": "4e064edf-830b-41b6-9c91-839561bf3553",
   "metadata": {},
   "outputs": [],
   "source": []
  }
 ],
 "metadata": {
  "kernelspec": {
   "display_name": "Python 3 (ipykernel)",
   "language": "python",
   "name": "python3"
  },
  "language_info": {
   "codemirror_mode": {
    "name": "ipython",
    "version": 3
   },
   "file_extension": ".py",
   "mimetype": "text/x-python",
   "name": "python",
   "nbconvert_exporter": "python",
   "pygments_lexer": "ipython3",
   "version": "3.10.11"
  }
 },
 "nbformat": 4,
 "nbformat_minor": 5
}
